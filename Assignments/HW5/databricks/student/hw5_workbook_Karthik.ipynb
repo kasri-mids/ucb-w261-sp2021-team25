{
 "cells": [
  {
   "cell_type": "markdown",
   "metadata": {
    "application/vnd.databricks.v1+cell": {
     "inputWidgets": {},
     "nuid": "60c31f4e-c7a4-4614-b55f-c88289fa7ecf",
     "showTitle": false,
     "title": ""
    }
   },
   "source": [
    "# HW 5 - Page Rank\n",
    "__`MIDS w261: Machine Learning at Scale | UC Berkeley School of Information | Fall 2018`__\n",
    "\n",
    "In Weeks 8 and 9 you discussed key concepts related to graph based algorithms and implemented SSSP.   \n",
    "In this final homework assignment you'll implement distributed PageRank using some data from Wikipedia.\n",
    "By the end of this homework you should be able to:  \n",
    "* ... __compare/contrast__ adjacency matrices and lists as representations of graphs for parallel computation.\n",
    "* ... __explain__ the goal of the PageRank algorithm using the concept of an infinite Random Walk.\n",
    "* ... __define__ a Markov chain including the conditions underwhich it will converge.\n",
    "* ... __identify__ what modifications must be made to the web graph inorder to leverage Markov Chains.\n",
    "* ... __implement__ distributed PageRank in Spark.\n",
    "\n",
    "__Please refer to the `README` for homework submission instructions and additional resources.__"
   ]
  },
  {
   "cell_type": "markdown",
   "metadata": {
    "application/vnd.databricks.v1+cell": {
     "inputWidgets": {},
     "nuid": "0ebfe83e-c848-4200-a95e-c542cce988d4",
     "showTitle": false,
     "title": ""
    }
   },
   "source": [
    "# Notebook Set-Up\n",
    "Before starting your homework run the following cells to confirm your setup."
   ]
  },
  {
   "cell_type": "code",
   "execution_count": 1,
   "metadata": {
    "application/vnd.databricks.v1+cell": {
     "inputWidgets": {},
     "nuid": "b3a00ef0-ccfd-4b63-9a3a-b97bb429e244",
     "showTitle": false,
     "title": ""
    }
   },
   "outputs": [],
   "source": [
    "# imports\n",
    "import re\n",
    "import ast\n",
    "import time\n",
    "import numpy as np\n",
    "import pandas as pd\n",
    "\n",
    "import seaborn as sns\n",
    "import networkx as nx\n",
    "import matplotlib.pyplot as plt"
   ]
  },
  {
   "cell_type": "code",
   "execution_count": 2,
   "metadata": {
    "application/vnd.databricks.v1+cell": {
     "inputWidgets": {},
     "nuid": "881eaefc-1a28-4bdd-97f3-b26e1d7ec647",
     "showTitle": false,
     "title": ""
    }
   },
   "outputs": [
    {
     "name": "stdout",
     "output_type": "stream",
     "text": [
      "hello world\n"
     ]
    }
   ],
   "source": [
    "# hello\n",
    "print('hello world')"
   ]
  },
  {
   "cell_type": "markdown",
   "metadata": {
    "application/vnd.databricks.v1+cell": {
     "inputWidgets": {},
     "nuid": "feba4ffc-9dac-4442-8ee8-20d35308beaa",
     "showTitle": false,
     "title": ""
    }
   },
   "source": [
    "### Run the next cell to create your directory in dbfs\n",
    "You do not need to understand this scala snippet. It simply dynamically fetches your user directory name so that any files you write can be saved in your own directory."
   ]
  },
  {
   "cell_type": "code",
   "execution_count": 3,
   "metadata": {
    "application/vnd.databricks.v1+cell": {
     "inputWidgets": {},
     "nuid": "8ef656d0-a339-4a05-844c-8adb89da013b",
     "showTitle": false,
     "title": ""
    }
   },
   "outputs": [
    {
     "ename": "NameError",
     "evalue": "name 'dbutils' is not defined",
     "output_type": "error",
     "traceback": [
      "\u001b[0;31m\u001b[0m",
      "\u001b[0;31mNameError\u001b[0mTraceback (most recent call last)",
      "\u001b[0;32m<ipython-input-3-c95480b6b103>\u001b[0m in \u001b[0;36m<module>\u001b[0;34m\u001b[0m\n\u001b[1;32m      2\u001b[0m \u001b[0;31m# This code snippet reads the user directory name, and stores is in a python variable.\u001b[0m\u001b[0;34m\u001b[0m\u001b[0;34m\u001b[0m\u001b[0;34m\u001b[0m\u001b[0m\n\u001b[1;32m      3\u001b[0m \u001b[0;31m# Next, it creates a folder inside your home folder, which you will use for files which you save inside this notebook.\u001b[0m\u001b[0;34m\u001b[0m\u001b[0;34m\u001b[0m\u001b[0;34m\u001b[0m\u001b[0m\n\u001b[0;32m----> 4\u001b[0;31m \u001b[0musername\u001b[0m \u001b[0;34m=\u001b[0m \u001b[0mdbutils\u001b[0m\u001b[0;34m.\u001b[0m\u001b[0mnotebook\u001b[0m\u001b[0;34m.\u001b[0m\u001b[0mentry_point\u001b[0m\u001b[0;34m.\u001b[0m\u001b[0mgetDbutils\u001b[0m\u001b[0;34m(\u001b[0m\u001b[0;34m)\u001b[0m\u001b[0;34m.\u001b[0m\u001b[0mnotebook\u001b[0m\u001b[0;34m(\u001b[0m\u001b[0;34m)\u001b[0m\u001b[0;34m.\u001b[0m\u001b[0mgetContext\u001b[0m\u001b[0;34m(\u001b[0m\u001b[0;34m)\u001b[0m\u001b[0;34m.\u001b[0m\u001b[0mtags\u001b[0m\u001b[0;34m(\u001b[0m\u001b[0;34m)\u001b[0m\u001b[0;34m.\u001b[0m\u001b[0mapply\u001b[0m\u001b[0;34m(\u001b[0m\u001b[0;34m'user'\u001b[0m\u001b[0;34m)\u001b[0m\u001b[0;34m\u001b[0m\u001b[0;34m\u001b[0m\u001b[0m\n\u001b[0m\u001b[1;32m      5\u001b[0m \u001b[0muserhome\u001b[0m \u001b[0;34m=\u001b[0m \u001b[0;34m'dbfs:/user/'\u001b[0m \u001b[0;34m+\u001b[0m \u001b[0musername\u001b[0m\u001b[0;34m\u001b[0m\u001b[0;34m\u001b[0m\u001b[0m\n\u001b[1;32m      6\u001b[0m \u001b[0mprint\u001b[0m\u001b[0;34m(\u001b[0m\u001b[0muserhome\u001b[0m\u001b[0;34m)\u001b[0m\u001b[0;34m\u001b[0m\u001b[0;34m\u001b[0m\u001b[0m\n",
      "\u001b[0;31mNameError\u001b[0m: name 'dbutils' is not defined"
     ]
    }
   ],
   "source": [
    "# RUN THIS CELL AS IS\n",
    "# This code snippet reads the user directory name, and stores is in a python variable.\n",
    "# Next, it creates a folder inside your home folder, which you will use for files which you save inside this notebook.\n",
    "username = dbutils.notebook.entry_point.getDbutils().notebook().getContext().tags().apply('user')\n",
    "userhome = 'dbfs:/user/' + username\n",
    "print(userhome)\n",
    "hw5_path = userhome + \"/HW5/\" \n",
    "hw5_path_open = '/dbfs' + hw5_path.split(':')[-1] # for use with python open()\n",
    "dbutils.fs.mkdirs(hw5_path)"
   ]
  },
  {
   "cell_type": "code",
   "execution_count": null,
   "metadata": {
    "application/vnd.databricks.v1+cell": {
     "inputWidgets": {},
     "nuid": "c25faea2-3848-426c-93f7-b0203b4266c6",
     "showTitle": false,
     "title": ""
    }
   },
   "outputs": [
    {
     "data": {
      "text/html": [
       "<style scoped>\n",
       "  .ansiout {\n",
       "    display: block;\n",
       "    unicode-bidi: embed;\n",
       "    white-space: pre-wrap;\n",
       "    word-wrap: break-word;\n",
       "    word-break: break-all;\n",
       "    font-family: \"Source Code Pro\", \"Menlo\", monospace;;\n",
       "    font-size: 13px;\n",
       "    color: #555;\n",
       "    margin-left: 4px;\n",
       "    line-height: 19px;\n",
       "  }\n",
       "</style>\n",
       "<div class=\"ansiout\">Out[4]: 4751198766</div>"
      ]
     },
     "metadata": {
      "application/vnd.databricks.v1+output": {
       "addedWidgets": {},
       "arguments": {},
       "data": "<div class=\"ansiout\">Out[4]: 4751198766</div>",
       "datasetInfos": [],
       "removedWidgets": [],
       "type": "html"
      }
     },
     "output_type": "display_data"
    }
   ],
   "source": [
    "# RUN THIS CELL AS IS. \n",
    "tot = 0\n",
    "DATA_PATH = 'dbfs:/mnt/mids-w261/HW5/'\n",
    "for item in dbutils.fs.ls(DATA_PATH):\n",
    "  tot = tot+item.size\n",
    "tot\n",
    "# ~4.7GB"
   ]
  },
  {
   "cell_type": "code",
   "execution_count": null,
   "metadata": {
    "application/vnd.databricks.v1+cell": {
     "inputWidgets": {},
     "nuid": "ac460ed5-b540-488e-9c87-34a31ad96bec",
     "showTitle": false,
     "title": ""
    }
   },
   "outputs": [
    {
     "data": {
      "text/html": [
       "<style scoped>\n",
       "  .table-result-container {\n",
       "    max-height: 300px;\n",
       "    overflow: auto;\n",
       "  }\n",
       "  table, th, td {\n",
       "    border: 1px solid black;\n",
       "    border-collapse: collapse;\n",
       "  }\n",
       "  th, td {\n",
       "    padding: 5px;\n",
       "  }\n",
       "  th {\n",
       "    text-align: left;\n",
       "  }\n",
       "</style><div class='table-result-container'><table class='table-result'><thead style='background-color: white'><tr><th>path</th><th>name</th><th>size</th></tr></thead><tbody><tr><td>dbfs:/mnt/mids-w261/HW5/5d74113d-bae1-4f39-81a1-b158b698ea13/</td><td>5d74113d-bae1-4f39-81a1-b158b698ea13/</td><td>0</td></tr><tr><td>dbfs:/mnt/mids-w261/HW5/all-pages-indexed-in.txt</td><td>all-pages-indexed-in.txt</td><td>2143300687</td></tr><tr><td>dbfs:/mnt/mids-w261/HW5/all-pages-indexed-out.txt</td><td>all-pages-indexed-out.txt</td><td>2090459616</td></tr><tr><td>dbfs:/mnt/mids-w261/HW5/indices.txt</td><td>indices.txt</td><td>517438296</td></tr><tr><td>dbfs:/mnt/mids-w261/HW5/test_graph.txt</td><td>test_graph.txt</td><td>167</td></tr></tbody></table></div>"
      ]
     },
     "metadata": {
      "application/vnd.databricks.v1+output": {
       "addedWidgets": {},
       "aggData": [],
       "aggError": "",
       "aggOverflow": false,
       "aggSchema": [],
       "aggSeriesLimitReached": false,
       "aggType": "",
       "arguments": {},
       "columnCustomDisplayInfos": {},
       "data": [
        [
         "dbfs:/mnt/mids-w261/HW5/5d74113d-bae1-4f39-81a1-b158b698ea13/",
         "5d74113d-bae1-4f39-81a1-b158b698ea13/",
         0
        ],
        [
         "dbfs:/mnt/mids-w261/HW5/all-pages-indexed-in.txt",
         "all-pages-indexed-in.txt",
         2143300687
        ],
        [
         "dbfs:/mnt/mids-w261/HW5/all-pages-indexed-out.txt",
         "all-pages-indexed-out.txt",
         2090459616
        ],
        [
         "dbfs:/mnt/mids-w261/HW5/indices.txt",
         "indices.txt",
         517438296
        ],
        [
         "dbfs:/mnt/mids-w261/HW5/test_graph.txt",
         "test_graph.txt",
         167
        ]
       ],
       "datasetInfos": [],
       "dbfsResultPath": null,
       "isJsonSchema": true,
       "overflow": false,
       "plotOptions": {
        "customPlotOptions": {},
        "displayType": "table",
        "pivotAggregation": null,
        "pivotColumns": [],
        "xColumns": [],
        "yColumns": []
       },
       "removedWidgets": [],
       "schema": [
        {
         "metadata": "{}",
         "name": "path",
         "type": "\"string\""
        },
        {
         "metadata": "{}",
         "name": "name",
         "type": "\"string\""
        },
        {
         "metadata": "{}",
         "name": "size",
         "type": "\"long\""
        }
       ],
       "type": "table"
      }
     },
     "output_type": "display_data"
    }
   ],
   "source": [
    "# RUN THIS CELL AS IS. You should see all-pages-indexed-in.txt, all-pages-indexed-out.txt and indices.txt in the results. If you do not see these, please let an Instructor or TA know.\n",
    "display(dbutils.fs.ls(DATA_PATH))"
   ]
  },
  {
   "cell_type": "code",
   "execution_count": null,
   "metadata": {
    "application/vnd.databricks.v1+cell": {
     "inputWidgets": {},
     "nuid": "eab2d17d-a5ff-4793-bef1-53dd68b24eba",
     "showTitle": false,
     "title": ""
    }
   },
   "outputs": [
    {
     "data": {
      "text/html": [
       "<style scoped>\n",
       "  .ansiout {\n",
       "    display: block;\n",
       "    unicode-bidi: embed;\n",
       "    white-space: pre-wrap;\n",
       "    word-wrap: break-word;\n",
       "    word-break: break-all;\n",
       "    font-family: \"Source Code Pro\", \"Menlo\", monospace;;\n",
       "    font-size: 13px;\n",
       "    color: #555;\n",
       "    margin-left: 4px;\n",
       "    line-height: 19px;\n",
       "  }\n",
       "</style>\n",
       "<div class=\"ansiout\">Wrote 11 bytes.\n",
       "</div>"
      ]
     },
     "metadata": {
      "application/vnd.databricks.v1+output": {
       "addedWidgets": {},
       "arguments": {},
       "data": "<div class=\"ansiout\">Wrote 11 bytes.\n</div>",
       "datasetInfos": [],
       "removedWidgets": [],
       "type": "html"
      }
     },
     "output_type": "display_data"
    },
    {
     "data": {
      "text/html": [
       "<style scoped>\n",
       "  .table-result-container {\n",
       "    max-height: 300px;\n",
       "    overflow: auto;\n",
       "  }\n",
       "  table, th, td {\n",
       "    border: 1px solid black;\n",
       "    border-collapse: collapse;\n",
       "  }\n",
       "  th, td {\n",
       "    padding: 5px;\n",
       "  }\n",
       "  th {\n",
       "    text-align: left;\n",
       "  }\n",
       "</style><div class='table-result-container'><table class='table-result'><thead style='background-color: white'><tr><th>path</th><th>name</th><th>size</th></tr></thead><tbody><tr><td>dbfs:/user/kasri@berkeley.edu/HW5/test.txt</td><td>test.txt</td><td>11</td></tr></tbody></table></div>"
      ]
     },
     "metadata": {
      "application/vnd.databricks.v1+output": {
       "addedWidgets": {},
       "aggData": [],
       "aggError": "",
       "aggOverflow": false,
       "aggSchema": [],
       "aggSeriesLimitReached": false,
       "aggType": "",
       "arguments": {},
       "columnCustomDisplayInfos": {},
       "data": [
        [
         "dbfs:/user/kasri@berkeley.edu/HW5/test.txt",
         "test.txt",
         11
        ]
       ],
       "datasetInfos": [],
       "dbfsResultPath": null,
       "isJsonSchema": true,
       "overflow": false,
       "plotOptions": {
        "customPlotOptions": {},
        "displayType": "table",
        "pivotAggregation": null,
        "pivotColumns": [],
        "xColumns": [],
        "yColumns": []
       },
       "removedWidgets": [],
       "schema": [
        {
         "metadata": "{}",
         "name": "path",
         "type": "\"string\""
        },
        {
         "metadata": "{}",
         "name": "name",
         "type": "\"string\""
        },
        {
         "metadata": "{}",
         "name": "size",
         "type": "\"long\""
        }
       ],
       "type": "table"
      }
     },
     "output_type": "display_data"
    }
   ],
   "source": [
    "# RUN THIS CELL AS IS - A test to make sure your directory is working as expected.\n",
    "# You should see a result like:\n",
    "# dbfs:/user/youremail@ischool.berkeley.edu/HW5/test.txt\n",
    "dbutils.fs.put(hw5_path+'test.txt',\"hello world\",True)\n",
    "display(dbutils.fs.ls(hw5_path))\n"
   ]
  },
  {
   "cell_type": "code",
   "execution_count": null,
   "metadata": {
    "application/vnd.databricks.v1+cell": {
     "inputWidgets": {},
     "nuid": "5f8b6c27-92a2-4849-9ea6-17ae79028ae5",
     "showTitle": false,
     "title": ""
    }
   },
   "outputs": [
    {
     "data": {
      "text/html": [
       "<style scoped>\n",
       "  .ansiout {\n",
       "    display: block;\n",
       "    unicode-bidi: embed;\n",
       "    white-space: pre-wrap;\n",
       "    word-wrap: break-word;\n",
       "    word-break: break-all;\n",
       "    font-family: \"Source Code Pro\", \"Menlo\", monospace;;\n",
       "    font-size: 13px;\n",
       "    color: #555;\n",
       "    margin-left: 4px;\n",
       "    line-height: 19px;\n",
       "  }\n",
       "</style>\n",
       "<div class=\"ansiout\">Out[7]: </div>"
      ]
     },
     "metadata": {
      "application/vnd.databricks.v1+output": {
       "addedWidgets": {},
       "arguments": {},
       "data": "<div class=\"ansiout\">Out[7]: </div>",
       "datasetInfos": [],
       "removedWidgets": [],
       "type": "html"
      }
     },
     "output_type": "display_data"
    },
    {
     "data": {
      "text/html": [
       "\n",
       "            <div>\n",
       "                <p><b>SparkSession - hive</b></p>\n",
       "                \n",
       "        <div>\n",
       "            <p><b>SparkContext</b></p>\n",
       "\n",
       "            <p><a href=\"/?o=8229810859276230#setting/sparkui/0227-180253-yard838/driver-4067918292497257847\">Spark UI</a></p>\n",
       "\n",
       "            <dl>\n",
       "              <dt>Version</dt>\n",
       "                <dd><code>v3.0.1</code></dd>\n",
       "              <dt>Master</dt>\n",
       "                <dd><code>spark://10.99.227.249:7077</code></dd>\n",
       "              <dt>AppName</dt>\n",
       "                <dd><code>Databricks Shell</code></dd>\n",
       "            </dl>\n",
       "        </div>\n",
       "        \n",
       "            </div>\n",
       "        "
      ]
     },
     "metadata": {
      "application/vnd.databricks.v1+output": {
       "addedWidgets": {},
       "arguments": {},
       "data": "\n            <div>\n                <p><b>SparkSession - hive</b></p>\n                \n        <div>\n            <p><b>SparkContext</b></p>\n\n            <p><a href=\"/?o=8229810859276230#setting/sparkui/0227-180253-yard838/driver-4067918292497257847\">Spark UI</a></p>\n\n            <dl>\n              <dt>Version</dt>\n                <dd><code>v3.0.1</code></dd>\n              <dt>Master</dt>\n                <dd><code>spark://10.99.227.249:7077</code></dd>\n              <dt>AppName</dt>\n                <dd><code>Databricks Shell</code></dd>\n            </dl>\n        </div>\n        \n            </div>\n        ",
       "datasetInfos": [],
       "removedWidgets": [],
       "textData": null,
       "type": "htmlSandbox"
      }
     },
     "output_type": "display_data"
    }
   ],
   "source": [
    "sc = spark.sparkContext\n",
    "spark"
   ]
  },
  {
   "cell_type": "markdown",
   "metadata": {
    "application/vnd.databricks.v1+cell": {
     "inputWidgets": {},
     "nuid": "3e043fae-17a8-4540-966a-223fe3633cc3",
     "showTitle": false,
     "title": ""
    }
   },
   "source": [
    "# Question 1: Distributed Graph Processing\n",
    "Chapter 5 from Lin & Dyer gave you a high level introduction to graph algorithms and concernts that come up when trying to perform distributed computations over them. The questions below are designed to make sure you captured the key points from this reading and your async lectures. \n",
    "\n",
    "### Q1 Tasks:\n",
    "\n",
    "* __a) short response:__ Give an example of a dataset that would be appropriate to represent as a graph. What are the nodes/edges in this dataset? Is the graph you describe 'directed' or 'undirected'? What would the average \"in-degree\" of a node mean in the context of your example? \n",
    "\n",
    "* __b) short response:__ Other than their size/scale, what makes graphs uniquely challenging to work with in the map-reduce paradigm? *(__HINT__: Do not respond in terms of any specific algorithm. Think in terms of the nature of the graph datastructure itself).*\n",
    "\n",
    "* __c) short response:__ Briefly describe Dijskra's algorithm (goal/approach). What specific design component makes this approach hard to parallelize?\n",
    "\n",
    "* __d) short response:__ How does parallel breadth-first-search get around the problem that you identified in part `c`? At what expense?"
   ]
  },
  {
   "cell_type": "markdown",
   "metadata": {
    "application/vnd.databricks.v1+cell": {
     "inputWidgets": {},
     "nuid": "ec841760-f486-46bf-a75d-039cc08d1ef1",
     "showTitle": false,
     "title": ""
    }
   },
   "source": [
    "### Q1 Student Answers:\n",
    "> __a)__ Type your answer here!\n",
    "\n",
    "> __b)__ Type your answer here!\n",
    "\n",
    "> __c)__ Type your answer here!  \n",
    "\n",
    "> __d)__ Type your answer here!"
   ]
  },
  {
   "cell_type": "markdown",
   "metadata": {
    "application/vnd.databricks.v1+cell": {
     "inputWidgets": {},
     "nuid": "c82d72ea-cd6f-4ecb-b657-5402a3a0fdb5",
     "showTitle": false,
     "title": ""
    }
   },
   "source": [
    "# Question 2: Representing Graphs \n",
    "\n",
    "In class you saw examples of adjacency matrix and adjacency list representations of graphs. These data structures were probably familiar from HW3, though we hadn't before talked about them in the context of graphs. In this question we'll discuss some of the tradeoffs associated with these representations. __`NOTE:`__ We'll use the graph from Figure 5.1 in Lin & Dyer as a toy example. For convenience in the code below we'll label the nodes `A`, `B`, `C`, `D`, and `E` instead of $n_1$, $n_2$, etc but otherwise you should be able to follow along & check our answers against those in the text.\n",
    "\n",
    "\n",
    "<img src=\"https://github.com/kyleiwaniec/w261_assets/blob/master/images/HW5/Lin-Dyer-graph-Q1.png?raw=true\" width=50%>\n",
    "\n",
    "### Q2 Tasks:\n",
    "\n",
    "* __a) short response:__ Relatively speaking, is the graph you described in Figure 5.1 in Lin & Dyer \"sparse\" or \"dense\"?  Explain how sparsity/density impacts the adjacency matrix and adjacency list representations of a graph.\n",
    "\n",
    "* __b) short response:__ Run the provided code to create and plot our toy graph. Is this graph directed or undirected? Explain how the adjacency matrices for directed graphs will differ from those of undirected graphs.\n",
    "\n",
    "* __c) code:__ Fill in the missing code to complete the function `get_adj_matr()`.\n",
    "\n",
    "* __d) code:__ Fill in the missing code to complete the function `get_adj_list()`."
   ]
  },
  {
   "cell_type": "markdown",
   "metadata": {
    "application/vnd.databricks.v1+cell": {
     "inputWidgets": {},
     "nuid": "1250e368-a8c6-472b-9461-8bf3543aceac",
     "showTitle": false,
     "title": ""
    }
   },
   "source": [
    "d ### Q2 Student Answers:\n",
    "> __a)__ Type your answer here!\n",
    "\n",
    "> __b)__ Type your answer here!"
   ]
  },
  {
   "cell_type": "code",
   "execution_count": 4,
   "metadata": {
    "application/vnd.databricks.v1+cell": {
     "inputWidgets": {},
     "nuid": "a624957c-ba04-4783-a657-9b415056413a",
     "showTitle": false,
     "title": ""
    }
   },
   "outputs": [],
   "source": [
    "# part a - a graph is just a list of nodes and edges (RUN THIS CELL AS IS)\n",
    "TOY_GRAPH = {'nodes':['A', 'B', 'C', 'D', 'E'],\n",
    "             'edges':[('A', 'B'), ('A', 'D'), ('B', 'C'), ('B', 'E'), ('C', 'D'), \n",
    "                      ('D', 'E'), ('E', 'A'),('E', 'B'), ('E', 'C')]}"
   ]
  },
  {
   "cell_type": "code",
   "execution_count": 5,
   "metadata": {
    "application/vnd.databricks.v1+cell": {
     "inputWidgets": {},
     "nuid": "0ac0da8f-6ef4-425c-b84b-4add000db6c1",
     "showTitle": false,
     "title": ""
    }
   },
   "outputs": [
    {
     "data": {
      "text/plain": [
       "None"
      ]
     },
     "metadata": {},
     "output_type": "display_data"
    },
    {
     "data": {
      "image/png": "[encoded data removed]",
      "text/plain": [
       "<Figure size 432x288 with 1 Axes>"
      ]
     },
     "metadata": {},
     "output_type": "display_data"
    }
   ],
   "source": [
    "# part a - simple visualization of our toy graph using nx (RUN THIS CELL AS IS)\n",
    "G = nx.DiGraph()\n",
    "G.add_nodes_from(TOY_GRAPH['nodes'])\n",
    "G.add_edges_from(TOY_GRAPH['edges'])\n",
    "display(nx.draw(G, pos=nx.circular_layout(G), with_labels=True, alpha = 0.5))"
   ]
  },
  {
   "cell_type": "code",
   "execution_count": 133,
   "metadata": {
    "application/vnd.databricks.v1+cell": {
     "inputWidgets": {},
     "nuid": "86dfa245-8fbe-4128-af6d-7dedc2b3fc47",
     "showTitle": false,
     "title": ""
    }
   },
   "outputs": [],
   "source": [
    "# part c - adjacency matrix function\n",
    "def get_adj_matr(graph):\n",
    "    \"\"\"\n",
    "    Function to create an adjacency matrix representation of a graph.\n",
    "    arg:\n",
    "        graph - (dict) of 'nodes' : [], 'edges' : []\n",
    "    returns:\n",
    "        pd.DataFrame with entry i,j representing an edge from node i to node j\n",
    "    \"\"\"\n",
    "    n = len(graph['nodes'])\n",
    "    adj_matr = pd.DataFrame(0, columns = graph['nodes'], index = graph['nodes'])\n",
    "    ############### YOUR CODE HERE ##################\n",
    "    for node1, node2 in graph['edges']:\n",
    "      adj_matr[node2][node1] = 1.0\n",
    "    ############### (END) YOUR CODE #################\n",
    "    return adj_matr"
   ]
  },
  {
   "cell_type": "code",
   "execution_count": 146,
   "metadata": {
    "application/vnd.databricks.v1+cell": {
     "inputWidgets": {},
     "nuid": "0e1cfcae-0c82-4773-9d81-06c8c8287e0a",
     "showTitle": false,
     "title": ""
    }
   },
   "outputs": [
    {
     "name": "stdout",
     "output_type": "stream",
     "text": [
      "   A  B  C  D  E\n",
      "A  0  1  0  1  0\n",
      "B  0  0  1  0  1\n",
      "C  0  0  0  1  0\n",
      "D  0  0  0  0  1\n",
      "E  1  1  1  0  0\n"
     ]
    }
   ],
   "source": [
    "# part c - take a look (RUN THIS CELL AS IS)\n",
    "TOY_ADJ_MATR = get_adj_matr(TOY_GRAPH)\n",
    "print(TOY_ADJ_MATR)"
   ]
  },
  {
   "cell_type": "code",
   "execution_count": 147,
   "metadata": {
    "application/vnd.databricks.v1+cell": {
     "inputWidgets": {},
     "nuid": "d0d0b249-2914-446d-9172-73ab1dffa13f",
     "showTitle": false,
     "title": ""
    }
   },
   "outputs": [],
   "source": [
    "# part d - adjacency list function\n",
    "def get_adj_list(graph):\n",
    "    \"\"\"\n",
    "    Function to create an adjacency list representation of a graph.\n",
    "    arg:\n",
    "        graph - (dict) of 'nodes' : [], 'edges' : []\n",
    "    returns:\n",
    "        dictionary of the form {node : [list of edges]}\n",
    "    \"\"\"\n",
    "    adj_list = {node: [] for node in graph['nodes']}\n",
    "    ############### YOUR CODE HERE ##################\n",
    "    for node1, node2 in graph['edges']:\n",
    "      adj_list[node1].append(node2)\n",
    "    ############### (END) YOUR CODE #################\n",
    "    return adj_list"
   ]
  },
  {
   "cell_type": "code",
   "execution_count": 148,
   "metadata": {
    "application/vnd.databricks.v1+cell": {
     "inputWidgets": {},
     "nuid": "16ad0007-16d9-4ad7-92b9-0712140dbeee",
     "showTitle": false,
     "title": ""
    }
   },
   "outputs": [
    {
     "name": "stdout",
     "output_type": "stream",
     "text": [
      "{'A': ['B', 'D'], 'B': ['C', 'E'], 'C': ['D'], 'D': ['E'], 'E': ['A', 'B', 'C']}\n"
     ]
    }
   ],
   "source": [
    "# part d - take a look (RUN THIS CELL AS IS)\n",
    "TOY_ADJ_LIST = get_adj_list(TOY_GRAPH)\n",
    "print(TOY_ADJ_LIST)"
   ]
  },
  {
   "cell_type": "markdown",
   "metadata": {
    "application/vnd.databricks.v1+cell": {
     "inputWidgets": {},
     "nuid": "0cbfb321-107c-409b-b164-0a89667c4ee9",
     "showTitle": false,
     "title": ""
    }
   },
   "source": [
    "# Question 3: Markov Chains and Random Walks\n",
    "\n",
    "As you know from your readings and in class discussions, the PageRank algorithm takes advantage of the machinery of Markov Chains to compute the relative importance of a webpage using the hyperlink structure of the web (we'll refer to this as the 'web-graph'). A Markov Chain is a discrete-time stochastic process. The stochastic matrix has a principal left eigen vector corresponding to its largest eigen value which is one. A Markov chain's probability distribution over its states may be viewed as a probability vector. This steady state probability for a state is the PageRank of the corresponding webpage. In this question we'll briefly discuss a few concepts that are key to understanding the math behind PageRank. \n",
    "\n",
    "### Q3 Tasks:\n",
    "\n",
    "* __a) short response:__ It is common to explain PageRank using the analogy of a web surfer who clicks on links at random ad infinitum. In the context of this hypothetical infinite random walk, what does the PageRank metric measure/represent?\n",
    "\n",
    "* __b) short response:__ What is the \"Markov Property\" and what does it mean in the context of PageRank?\n",
    "\n",
    "* __c) short response:__ A Markov chain consists of $n$ states plus an $n\\times n$ transition probability matrix. In the context of PageRank & a random walk over the WebGraph what are the $n$ states? what implications does this have about the size of the transition matrix?\n",
    "\n",
    "* __d) code + short response:__ What is a \"right stochastic matrix\"? Fill in the code below to compute the transition matrix for the toy graph from question 2. [__`HINT:`__ _It should be right stochastic. Using numpy this calculation can be done in one line of code._]\n",
    "\n",
    "* __e) code + short response:__ To compute the stable state distribution (i.e. PageRank) of a \"nice\" graph we can apply the power iteration method - repeatedly multiplying the transition matrix by itself, until the values no longer change. Apply this strategy to your transition matrix from `part d` to find the PageRank for each of the pages in your toy graph. Your code should print the results of each iteration. How many iterations does it take to converge? Which node is most 'central' (i.e. highest ranked)? Does this match your intuition? \n",
    "    * __`NOTE 1:`__ _this is a naive approach, we'll unpack what it means to be \"nice\" in the next question_.\n",
    "    * __`NOTE 2:`__ _no need to implement a stopping criteria, visual inspection should suffice_."
   ]
  },
  {
   "cell_type": "markdown",
   "metadata": {
    "application/vnd.databricks.v1+cell": {
     "inputWidgets": {},
     "nuid": "bf6ca308-905e-48c6-bf3a-9a97a241ee7a",
     "showTitle": false,
     "title": ""
    }
   },
   "source": [
    "### Q3 Student Answers:\n",
    "> __a)__ Type your answer here!\n",
    "\n",
    "> __b)__ Type your answer here!\n",
    "\n",
    "> __c)__ Type your answer here! \n",
    "\n",
    "> __d)__ Type your answer here!\n",
    "\n",
    "> __e)__ Type your answer here!"
   ]
  },
  {
   "cell_type": "code",
   "execution_count": 149,
   "metadata": {
    "application/vnd.databricks.v1+cell": {
     "inputWidgets": {},
     "nuid": "1c924776-81de-4c0b-98ec-453eb6523cb1",
     "showTitle": false,
     "title": ""
    }
   },
   "outputs": [
    {
     "data": {
      "text/html": [
       "<div>\n",
       "<style scoped>\n",
       "    .dataframe tbody tr th:only-of-type {\n",
       "        vertical-align: middle;\n",
       "    }\n",
       "\n",
       "    .dataframe tbody tr th {\n",
       "        vertical-align: top;\n",
       "    }\n",
       "\n",
       "    .dataframe thead th {\n",
       "        text-align: right;\n",
       "    }\n",
       "</style>\n",
       "<table border=\"1\" class=\"dataframe\">\n",
       "  <thead>\n",
       "    <tr style=\"text-align: right;\">\n",
       "      <th></th>\n",
       "      <th>A</th>\n",
       "      <th>B</th>\n",
       "      <th>C</th>\n",
       "      <th>D</th>\n",
       "      <th>E</th>\n",
       "    </tr>\n",
       "  </thead>\n",
       "  <tbody>\n",
       "    <tr>\n",
       "      <th>A</th>\n",
       "      <td>0</td>\n",
       "      <td>1</td>\n",
       "      <td>0</td>\n",
       "      <td>1</td>\n",
       "      <td>0</td>\n",
       "    </tr>\n",
       "    <tr>\n",
       "      <th>B</th>\n",
       "      <td>0</td>\n",
       "      <td>0</td>\n",
       "      <td>1</td>\n",
       "      <td>0</td>\n",
       "      <td>1</td>\n",
       "    </tr>\n",
       "    <tr>\n",
       "      <th>C</th>\n",
       "      <td>0</td>\n",
       "      <td>0</td>\n",
       "      <td>0</td>\n",
       "      <td>1</td>\n",
       "      <td>0</td>\n",
       "    </tr>\n",
       "    <tr>\n",
       "      <th>D</th>\n",
       "      <td>0</td>\n",
       "      <td>0</td>\n",
       "      <td>0</td>\n",
       "      <td>0</td>\n",
       "      <td>1</td>\n",
       "    </tr>\n",
       "    <tr>\n",
       "      <th>E</th>\n",
       "      <td>1</td>\n",
       "      <td>1</td>\n",
       "      <td>1</td>\n",
       "      <td>0</td>\n",
       "      <td>0</td>\n",
       "    </tr>\n",
       "  </tbody>\n",
       "</table>\n",
       "</div>"
      ],
      "text/plain": [
       "   A  B  C  D  E\n",
       "A  0  1  0  1  0\n",
       "B  0  0  1  0  1\n",
       "C  0  0  0  1  0\n",
       "D  0  0  0  0  1\n",
       "E  1  1  1  0  0"
      ]
     },
     "execution_count": 149,
     "metadata": {},
     "output_type": "execute_result"
    }
   ],
   "source": [
    "# part d - recall what the adjacency matrix looked like (RUN THIS CELL AS IS)\n",
    "TOY_ADJ_MATR"
   ]
  },
  {
   "cell_type": "code",
   "execution_count": 150,
   "metadata": {
    "application/vnd.databricks.v1+cell": {
     "inputWidgets": {},
     "nuid": "009a00c5-cb10-44a9-b324-b2e685d2c25f",
     "showTitle": false,
     "title": ""
    }
   },
   "outputs": [
    {
     "name": "stdout",
     "output_type": "stream",
     "text": [
      "          A         B         C    D    E\n",
      "A  0.000000  0.500000  0.000000  0.5  0.0\n",
      "B  0.000000  0.000000  0.500000  0.0  0.5\n",
      "C  0.000000  0.000000  0.000000  1.0  0.0\n",
      "D  0.000000  0.000000  0.000000  0.0  1.0\n",
      "E  0.333333  0.333333  0.333333  0.0  0.0\n"
     ]
    }
   ],
   "source": [
    "# part d - use TOY_ADJ_MATR to create a right stochastic transition matrix for this graph\n",
    "################ YOUR CODE HERE #################\n",
    "def create_transition_matrix(adj_matrix):\n",
    "    transition_matrix = np.asarray([adj_matrix.to_numpy()[i]/adj_matrix.to_numpy()[i].sum() for i in range(0,adj_matrix.shape[0])])\n",
    "\n",
    "    return pd.DataFrame(data=transition_matrix, index=adj_matrix.index, columns=adj_matrix.columns)\n",
    "    \n",
    "transition_matrix = create_transition_matrix(TOY_ADJ_MATR) # replace with your code\n",
    "\n",
    "################ (END) YOUR CODE #################\n",
    "print(transition_matrix)"
   ]
  },
  {
   "cell_type": "code",
   "execution_count": 151,
   "metadata": {
    "application/vnd.databricks.v1+cell": {
     "inputWidgets": {},
     "nuid": "f931d29d-673a-45e5-8ed2-a9ee90f64628",
     "showTitle": false,
     "title": ""
    }
   },
   "outputs": [],
   "source": [
    "# part e - compute the steady state using the transition matrix \n",
    "#0.19148936 0.21276596 0.08510638 0.17021277 0.34042553\n",
    "#0.19148936 0.21276596 0.08510638 0.17021277 0.34042553\n",
    "def power_iteration(xInit, tMatrix, nIter, verbose = True):\n",
    "    \"\"\"\n",
    "    Function to perform the specified number of power iteration steps to \n",
    "    compute the steady state probability distribution for the given\n",
    "    transition matrix.\n",
    "    \n",
    "    Args:\n",
    "        xInit     - (n x 1 array) representing inial state\n",
    "        tMatrix  - (n x n array) transition probabilities\n",
    "        nIter     - (int) number of iterations\n",
    "    Returns:\n",
    "        state_vector - (n x 1 array) representing probability \n",
    "                        distribution over states after nSteps.\n",
    "    \n",
    "    NOTE: if the 'verbose' flag is on, your function should print the step\n",
    "    number and the current matrix at each iteration.\n",
    "    \"\"\"\n",
    "    state_vector = None\n",
    "    ################ YOUR CODE HERE #################\n",
    "    state_vector = xInit/np.sum(xInit)\n",
    "\n",
    "    for i in range(nIter):\n",
    "        new_state_vector = np.dot(np.transpose(tMatrix.to_numpy()),state_vector)\n",
    "        state_vector = new_state_vector\n",
    "        if verbose:\n",
    "            for i in range(tMatrix.shape[0]):\n",
    "                print('Node {}: {}'.format(tMatrix.index[i], new_state_vector[i]))\n",
    "            print(np.sum(new_state_vector))\n",
    "#             print(f'{new_state_vector}')\n",
    "    for i in range(tMatrix.shape[0]):\n",
    "        print('Node {}: {}'.format(tMatrix.index[i], new_state_vector[i]))\n",
    "    ################ (END) YOUR CODE #################\n",
    "    return state_vector"
   ]
  },
  {
   "cell_type": "code",
   "execution_count": 154,
   "metadata": {
    "application/vnd.databricks.v1+cell": {
     "inputWidgets": {},
     "nuid": "6c745e1b-d91e-4d20-8593-4dddeb93af50",
     "showTitle": false,
     "title": ""
    }
   },
   "outputs": [
    {
     "name": "stdout",
     "output_type": "stream",
     "text": [
      "Node A: 0.0\n",
      "Node B: 0.5\n",
      "Node C: 0.0\n",
      "Node D: 0.5\n",
      "Node E: 0.0\n",
      "1.0\n",
      "Node A: 0.0\n",
      "Node B: 0.0\n",
      "Node C: 0.25\n",
      "Node D: 0.0\n",
      "Node E: 0.75\n",
      "1.0\n",
      "Node A: 0.25\n",
      "Node B: 0.25\n",
      "Node C: 0.25\n",
      "Node D: 0.25\n",
      "Node E: 0.0\n",
      "1.0\n",
      "Node A: 0.0\n",
      "Node B: 0.125\n",
      "Node C: 0.125\n",
      "Node D: 0.375\n",
      "Node E: 0.375\n",
      "1.0\n",
      "Node A: 0.125\n",
      "Node B: 0.125\n",
      "Node C: 0.1875\n",
      "Node D: 0.125\n",
      "Node E: 0.4375\n",
      "1.0\n",
      "Node A: 0.14583333333333331\n",
      "Node B: 0.20833333333333331\n",
      "Node C: 0.20833333333333331\n",
      "Node D: 0.25\n",
      "Node E: 0.1875\n",
      "1.0\n",
      "Node A: 0.0625\n",
      "Node B: 0.13541666666666666\n",
      "Node C: 0.16666666666666666\n",
      "Node D: 0.28125\n",
      "Node E: 0.35416666666666663\n",
      "0.9999999999999999\n",
      "Node A: 0.11805555555555554\n",
      "Node B: 0.14930555555555552\n",
      "Node C: 0.18576388888888887\n",
      "Node D: 0.19791666666666666\n",
      "Node E: 0.3489583333333333\n",
      "0.9999999999999998\n",
      "Node A: 0.11631944444444443\n",
      "Node B: 0.1753472222222222\n",
      "Node C: 0.19097222222222218\n",
      "Node D: 0.24479166666666663\n",
      "Node E: 0.2725694444444444\n",
      "0.9999999999999999\n",
      "Node A: 0.09085648148148147\n",
      "Node B: 0.1490162037037037\n",
      "Node C: 0.17853009259259256\n",
      "Node D: 0.2491319444444444\n",
      "Node E: 0.33246527777777773\n",
      "0.9999999999999998\n",
      "Node A: 0.09085648148148147\n",
      "Node B: 0.1490162037037037\n",
      "Node C: 0.17853009259259256\n",
      "Node D: 0.2491319444444444\n",
      "Node E: 0.33246527777777773\n"
     ]
    }
   ],
   "source": [
    "# part e - run 10 steps of the power_iteration (RUN THIS CELL AS IS)\n",
    "xInit = np.array([1.0, 0.0, 0, 0, 0]) # note that this initial state will not affect the convergence states\n",
    "states = power_iteration(xInit, transition_matrix, 10, verbose = True)"
   ]
  },
  {
   "cell_type": "markdown",
   "metadata": {
    "application/vnd.databricks.v1+cell": {
     "inputWidgets": {},
     "nuid": "634c03fb-3b98-4a38-ae13-5209de811d35",
     "showTitle": false,
     "title": ""
    }
   },
   "source": [
    "__`Expected Output for part e:`__  \n",
    ">Steady State Probabilities:\n",
    "```\n",
    "Node A: 0.10526316  \n",
    "Node B: 0.15789474  \n",
    "Node C: 0.18421053  \n",
    "Node D: 0.23684211  \n",
    "Node E: 0.31578947  \n",
    "```"
   ]
  },
  {
   "cell_type": "markdown",
   "metadata": {
    "application/vnd.databricks.v1+cell": {
     "inputWidgets": {},
     "nuid": "f93510bc-59cf-45cf-a141-413348569ee1",
     "showTitle": false,
     "title": ""
    }
   },
   "source": [
    "# Question 4: Page Rank Theory\n",
    "\n",
    "Seems easy right? Unfortunately applying this power iteration method directly to the web-graph actually runs into a few problems. In this question we'll tease apart what we meant by a 'nice graph' in Question 3 and highlight key modifications we'll have to make to the web-graph when performing PageRank. To start, we'll look at what goes wrong when we try to repeat our strategy from question 3 on a 'not nice' graph.\n",
    "\n",
    "__`Additional References:`__ http://pi.math.cornell.edu/~mec/Winter2009/RalucaRemus/Lecture3/lecture3.html\n",
    "\n",
    "### Q4 Tasks:\n",
    "\n",
    "* __a) code + short response:__ Run the provided code to create and plot our 'not nice' graph. Fill in the missing code to compute its transition matrix & run the power iteration method from question 3. What is wrong with what you see? [__`HINT:`__ _there is a visible underlying reason that it isn't converging... try adding up the probabilities in the state vector after each iteration._]\n",
    "\n",
    "* __b) short response:__  Identify the dangling node in this 'not nice' graph and explain how this node causes the problem you described in 'a'. How could we modify the transition matrix after each iteration to prevent this problem?\n",
    "\n",
    "* __c) short response:__ What does it mean for a graph to be irreducible? Is the webgraph naturally irreducible? Explain your reasoning briefly.\n",
    "\n",
    "* __d) short response:__ What does it mean for a graph to be aperiodic? Is the webgraph naturally aperiodic? Explain your reasoning briefly.\n",
    "\n",
    "* __e) short response:__ What modification to the webgraph does PageRank make in order to guarantee aperiodicity and irreducibility? Interpret this modification in terms of our random surfer analogy."
   ]
  },
  {
   "cell_type": "markdown",
   "metadata": {
    "application/vnd.databricks.v1+cell": {
     "inputWidgets": {},
     "nuid": "708df464-1993-4411-94f6-cf6284188354",
     "showTitle": false,
     "title": ""
    }
   },
   "source": [
    "### Q4 Student Answers:\n",
    "> __a)__ Type your answer here!\n",
    "\n",
    "> __b)__ Type your answer here!\n",
    "\n",
    "> __c)__ Type your answer here!\n",
    "\n",
    "> __d)__ Type your answer here!  \n",
    "\n",
    "> __e)__ Type your answer here!"
   ]
  },
  {
   "cell_type": "code",
   "execution_count": 155,
   "metadata": {
    "application/vnd.databricks.v1+cell": {
     "inputWidgets": {},
     "nuid": "cd2f0bd3-e362-4f6f-894a-23ae56f35f00",
     "showTitle": false,
     "title": ""
    }
   },
   "outputs": [],
   "source": [
    "# part a - run this code to create a second toy graph (RUN THIS CELL AS IS)\n",
    "TOY2_GRAPH = {'nodes':['A', 'B', 'C', 'D', 'E'],\n",
    "              'edges':[('A', 'B'), ('A', 'C'), ('A', 'D'), ('B', 'D'), \n",
    "                       ('B', 'E'), ('C', 'A'), ('C', 'E'), ('D', 'B')]}"
   ]
  },
  {
   "cell_type": "code",
   "execution_count": 156,
   "metadata": {
    "application/vnd.databricks.v1+cell": {
     "inputWidgets": {},
     "nuid": "9d14a4c9-8371-4e66-91b8-8660f8b9929b",
     "showTitle": false,
     "title": ""
    }
   },
   "outputs": [
    {
     "data": {
      "text/plain": [
       "None"
      ]
     },
     "metadata": {},
     "output_type": "display_data"
    },
    {
     "data": {
      "image/png": "[encoded data removed]",
      "text/plain": [
       "<Figure size 432x288 with 1 Axes>"
      ]
     },
     "metadata": {},
     "output_type": "display_data"
    }
   ],
   "source": [
    "# part a - simple visualization of our test graph using nx (RUN THIS CELL AS IS)\n",
    "G = nx.DiGraph()\n",
    "G.add_nodes_from(TOY2_GRAPH['nodes'])\n",
    "G.add_edges_from(TOY2_GRAPH['edges'])\n",
    "display(nx.draw(G, pos=nx.circular_layout(G), with_labels=True, alpha = 0.5))"
   ]
  },
  {
   "cell_type": "code",
   "execution_count": 158,
   "metadata": {
    "application/vnd.databricks.v1+cell": {
     "inputWidgets": {},
     "nuid": "8267626e-c846-4ff3-8827-19a412fa3547",
     "showTitle": false,
     "title": ""
    }
   },
   "outputs": [
    {
     "name": "stdout",
     "output_type": "stream",
     "text": [
      "   A  B  C  D  E\n",
      "A  0  1  1  1  0\n",
      "B  0  0  0  1  1\n",
      "C  1  0  0  0  1\n",
      "D  0  1  0  0  0\n",
      "E  0  0  0  0  0\n",
      "     A         B         C         D    E\n",
      "A  0.0  0.333333  0.333333  0.333333  0.0\n",
      "B  0.0  0.000000  0.000000  0.500000  0.5\n",
      "C  0.5  0.000000  0.000000  0.000000  0.5\n",
      "D  0.0  1.000000  0.000000  0.000000  0.0\n",
      "E  NaN       NaN       NaN       NaN  NaN\n",
      "Node A: nan\n",
      "Node B: nan\n",
      "Node C: nan\n",
      "Node D: nan\n",
      "Node E: nan\n",
      "nan\n",
      "Node A: nan\n",
      "Node B: nan\n",
      "Node C: nan\n",
      "Node D: nan\n",
      "Node E: nan\n",
      "nan\n",
      "Node A: nan\n",
      "Node B: nan\n",
      "Node C: nan\n",
      "Node D: nan\n",
      "Node E: nan\n",
      "nan\n",
      "Node A: nan\n",
      "Node B: nan\n",
      "Node C: nan\n",
      "Node D: nan\n",
      "Node E: nan\n",
      "nan\n",
      "Node A: nan\n",
      "Node B: nan\n",
      "Node C: nan\n",
      "Node D: nan\n",
      "Node E: nan\n",
      "nan\n",
      "Node A: nan\n",
      "Node B: nan\n",
      "Node C: nan\n",
      "Node D: nan\n",
      "Node E: nan\n",
      "nan\n",
      "Node A: nan\n",
      "Node B: nan\n",
      "Node C: nan\n",
      "Node D: nan\n",
      "Node E: nan\n",
      "nan\n",
      "Node A: nan\n",
      "Node B: nan\n",
      "Node C: nan\n",
      "Node D: nan\n",
      "Node E: nan\n",
      "nan\n",
      "Node A: nan\n",
      "Node B: nan\n",
      "Node C: nan\n",
      "Node D: nan\n",
      "Node E: nan\n",
      "nan\n",
      "Node A: nan\n",
      "Node B: nan\n",
      "Node C: nan\n",
      "Node D: nan\n",
      "Node E: nan\n",
      "nan\n",
      "Node A: nan\n",
      "Node B: nan\n",
      "Node C: nan\n",
      "Node D: nan\n",
      "Node E: nan\n"
     ]
    },
    {
     "name": "stderr",
     "output_type": "stream",
     "text": [
      "/opt/anaconda/lib/python3.7/site-packages/ipykernel_launcher.py:4: RuntimeWarning: invalid value encountered in true_divide\n",
      "  after removing the cwd from sys.path.\n"
     ]
    }
   ],
   "source": [
    "# part a - run 10 steps of the power iteration method here\n",
    "# HINT: feel free to use the functions get_adj_matr() and power_iteration() you wrote above\n",
    "################ YOUR CODE HERE #################\n",
    "\n",
    "# part e - run 10 steps of the power_iteration (RUN THIS CELL AS IS)\n",
    "TOY_ADJ_MATR2 = get_adj_matr(TOY2_GRAPH)\n",
    "print(TOY_ADJ_MATR2)\n",
    "transition_matrix2 = create_transition_matrix(TOY_ADJ_MATR2) # replace with your code\n",
    "print(transition_matrix2)\n",
    "xInit = np.array([1.0, 0.0, 0, 0, 0]) # note that this initial state will not affect the convergence states\n",
    "states = power_iteration(xInit, transition_matrix2, 10, verbose = True)\n",
    "\n",
    "\n",
    "################ (END) YOUR CODE #################"
   ]
  },
  {
   "cell_type": "markdown",
   "metadata": {
    "application/vnd.databricks.v1+cell": {
     "inputWidgets": {},
     "nuid": "3bce3ebb-3c6f-440b-8158-41bf31476bee",
     "showTitle": false,
     "title": ""
    }
   },
   "source": [
    "# About the Data\n",
    "The main dataset for this data consists of a subset of a 500GB dataset released by AWS in 2009. The data includes the source and metadata for all of the Wikimedia wikis. You can read more here: \n",
    "> https://aws.amazon.com/blogs/aws/new-public-data-set-wikipedia-xml-data. \n",
    "\n",
    "As in previous homeworks we'll be using a 2GB subset of this data, which is available to you in this dropbox folder: \n",
    "> https://www.dropbox.com/sh/2c0k5adwz36lkcw/AAAAKsjQfF9uHfv-X9mCqr9wa?dl=0. \n",
    "\n",
    "Use the cells below to download the wikipedia data and a test file for use in developing your PageRank implementation(note that we'll use the 'indexed out' version of the graph) and to take a look at the files."
   ]
  },
  {
   "cell_type": "code",
   "execution_count": null,
   "metadata": {
    "application/vnd.databricks.v1+cell": {
     "inputWidgets": {},
     "nuid": "0b85f277-2bde-48c9-9b1b-5c7a342bb526",
     "showTitle": false,
     "title": ""
    }
   },
   "outputs": [],
   "source": [
    "dbutils.fs.ls(DATA_PATH)"
   ]
  },
  {
   "cell_type": "code",
   "execution_count": null,
   "metadata": {
    "application/vnd.databricks.v1+cell": {
     "inputWidgets": {},
     "nuid": "ebf156ed-a637-4b35-bf6c-9afa1b0143a5",
     "showTitle": false,
     "title": ""
    }
   },
   "outputs": [],
   "source": [
    "# open test_graph.txt file to see format (RUN THIS CELL AS IS)\n",
    "with open('/dbfs/mnt/mids-w261/HW5/test_graph.txt', \"r\") as f_read:\n",
    "  for line in f_read:\n",
    "    print(line)"
   ]
  },
  {
   "cell_type": "code",
   "execution_count": null,
   "metadata": {
    "application/vnd.databricks.v1+cell": {
     "inputWidgets": {},
     "nuid": "3a09565c-f333-493b-94a1-1ee8e98165ef",
     "showTitle": false,
     "title": ""
    }
   },
   "outputs": [],
   "source": [
    "# load the data into Spark RDDs for convenience of use later (RUN THIS CELL AS IS)\n",
    "DATA_PATH = 'dbfs:/mnt/mids-w261/HW5/'\n",
    "testRDD = sc.textFile(DATA_PATH +'test_graph.txt')\n",
    "indexRDD = sc.textFile(DATA_PATH + '/indices.txt')\n",
    "wikiRDD = sc.textFile(DATA_PATH + '/all-pages-indexed-out.txt')"
   ]
  },
  {
   "cell_type": "code",
   "execution_count": null,
   "metadata": {
    "application/vnd.databricks.v1+cell": {
     "inputWidgets": {},
     "nuid": "e4419f08-0f03-437c-88f1-684bbb138e80",
     "showTitle": false,
     "title": ""
    }
   },
   "outputs": [],
   "source": [
    "# display testRDD (RUN THIS CELL AS IS)\n",
    "testRDD.take(10)"
   ]
  },
  {
   "cell_type": "code",
   "execution_count": null,
   "metadata": {
    "application/vnd.databricks.v1+cell": {
     "inputWidgets": {},
     "nuid": "edf07beb-91a0-4cf3-a243-1dbe22f5f929",
     "showTitle": false,
     "title": ""
    }
   },
   "outputs": [],
   "source": [
    "# display indexRDD (RUN THIS CELL AS IS)\n",
    "indexRDD.take(10)"
   ]
  },
  {
   "cell_type": "code",
   "execution_count": null,
   "metadata": {
    "application/vnd.databricks.v1+cell": {
     "inputWidgets": {},
     "nuid": "9f8d461e-4a84-4580-b8bf-dee66aec09c5",
     "showTitle": false,
     "title": ""
    }
   },
   "outputs": [],
   "source": [
    "# display wikiRDD (RUN THIS CELL AS IS)\n",
    "wikiRDD.take(10)"
   ]
  },
  {
   "cell_type": "markdown",
   "metadata": {
    "application/vnd.databricks.v1+cell": {
     "inputWidgets": {},
     "nuid": "715ebf8c-1870-4f6f-a2be-bb5b12210272",
     "showTitle": false,
     "title": ""
    }
   },
   "source": [
    "# Question 5: EDA part 1 (number of nodes)\n",
    "\n",
    "As usual, before we dive in to the main analysis, we'll peform some exploratory data anlysis to understand our dataset. Please use the test graph that you downloaded to test all your code before running the full dataset.\n",
    "\n",
    "### Q5 Tasks:\n",
    "* __a) short response:__ In what format is the raw data? What does the first value represent? What does the second part of each line represent? [__`HINT:`__ _no need to go digging here, just visually inspect the outputs of the head commands that we ran after loading the data above._]\n",
    "\n",
    "* __b) code + short response:__ Run the provided bash command to count the number of records in the raw dataset. Explain why this is _not_ the same as the number of total nodes in the graph.\n",
    "\n",
    "* __c) code:__ In the space provided below write a Spark job to count the _total number_ of nodes in this graph. \n",
    "\n",
    "* __d) short response:__ How many dangling nodes are there in this wikipedia graph? [__`HINT:`__ _you should not need any code to answer this question._]"
   ]
  },
  {
   "cell_type": "markdown",
   "metadata": {
    "application/vnd.databricks.v1+cell": {
     "inputWidgets": {},
     "nuid": "77bf44dc-3859-42a7-bb11-7cb1f73346eb",
     "showTitle": false,
     "title": ""
    }
   },
   "source": [
    "### Q5 Student Answers:\n",
    "> __a)__ Type your answer here!  \n",
    "\n",
    "> __b)__ Type your answer here! \n",
    "\n",
    "> __d)__ Type your answer here!"
   ]
  },
  {
   "cell_type": "code",
   "execution_count": null,
   "metadata": {
    "application/vnd.databricks.v1+cell": {
     "inputWidgets": {},
     "nuid": "ba091a07-fd36-42e0-b584-e12d7ddddb2e",
     "showTitle": false,
     "title": ""
    }
   },
   "outputs": [],
   "source": [
    "# part b - count the number of records in the raw data (RUN THIS CELL AS IS)\n",
    "# 5781290\n",
    "print(wikiRDD.count())"
   ]
  },
  {
   "cell_type": "code",
   "execution_count": null,
   "metadata": {
    "application/vnd.databricks.v1+cell": {
     "inputWidgets": {},
     "nuid": "ed6fa03d-1f45-4d61-8a48-dad3ecd56f8b",
     "showTitle": false,
     "title": ""
    }
   },
   "outputs": [],
   "source": [
    "# part c - write your Spark job here (compute total number of nodes)\n",
    "def count_nodes(dataRDD):\n",
    "    \"\"\"\n",
    "    Spark job to count the total number of nodes.\n",
    "    Returns: integer count \n",
    "    \"\"\"    \n",
    "    ############## YOUR CODE HERE ###############\n",
    "\n",
    "    \n",
    "    \n",
    "    \n",
    "    ############## (END) YOUR CODE ###############   \n",
    "    return totalCount"
   ]
  },
  {
   "cell_type": "code",
   "execution_count": null,
   "metadata": {
    "application/vnd.databricks.v1+cell": {
     "inputWidgets": {},
     "nuid": "2571576e-479a-418a-a602-9f6898ee5216",
     "showTitle": false,
     "title": ""
    }
   },
   "outputs": [],
   "source": [
    "# part c - run your counting job on the test file (RUN THIS CELL AS IS)\n",
    "start = time.time()\n",
    "tot = count_nodes(testRDD)\n",
    "print(f'... completed job in {time.time() - start} seconds.')\n",
    "print(f'Total Nodes: {tot}')"
   ]
  },
  {
   "cell_type": "code",
   "execution_count": null,
   "metadata": {
    "application/vnd.databricks.v1+cell": {
     "inputWidgets": {},
     "nuid": "84591136-d515-4063-830a-4be2f3461707",
     "showTitle": false,
     "title": ""
    }
   },
   "outputs": [],
   "source": [
    "# part c - run your counting job on the full file (RUN THIS CELL AS IS)\n",
    "start = time.time()\n",
    "tot = count_nodes(wikiRDD)\n",
    "print(f'... completed job in {time.time() - start} seconds.')\n",
    "print(f'Total Nodes: {tot}')"
   ]
  },
  {
   "cell_type": "markdown",
   "metadata": {
    "application/vnd.databricks.v1+cell": {
     "inputWidgets": {},
     "nuid": "d7f0f07a-c30f-4ccd-ab8c-2253cfb75ac9",
     "showTitle": false,
     "title": ""
    }
   },
   "source": [
    "# Question 6 - EDA part 2 (out-degree distribution)\n",
    "\n",
    "As you've seen in previous homeworks the computational complexity of an implementation depends not only on the number of records in the original dataset but also on the number of records we create and shuffle in our intermediate representation of the data. The number of intermediate records required to update PageRank is related to the number of edges in the graph. In this question you'll compute the average number of hyperlinks on each page in this data and visualize a distribution for these counts (the out-degree of the nodes). \n",
    "\n",
    "### Q6 Tasks:\n",
    "* __a) code:__ In the space provided below write a Spark job to stream over the data and compute all of the following information:\n",
    " * count the out-degree of each non-dangling node and return the names of the top 10 pages with the most hyperlinks\n",
    " * find the average out-degree for all non-dangling nodes in the graph\n",
    " * take a 1000 point sample of these out-degree counts and plot a histogram of the result. \n",
    " \n",
    " \n",
    "* __b) short response:__ In the context of the PageRank algorithm, how is information about a node's out degree used?\n",
    "\n",
    "* __c) short response:__ What does it mean if a node's out-degree is 0? In PageRank how will we handle these nodes differently than others?\n",
    " \n",
    "__`NOTE:`__ Please observe scalability best practices in the design of your code & comment your work clearly. You will be graded on both the clarity and the design."
   ]
  },
  {
   "cell_type": "markdown",
   "metadata": {
    "application/vnd.databricks.v1+cell": {
     "inputWidgets": {},
     "nuid": "1055155c-b391-436a-9713-5cf01a4bc3c7",
     "showTitle": false,
     "title": ""
    }
   },
   "source": [
    "### Q6 Student Answers:\n",
    "\n",
    "> __b)__ Type your answer here! \n",
    "\n",
    "> __c)__ Type your answer here!"
   ]
  },
  {
   "cell_type": "code",
   "execution_count": null,
   "metadata": {
    "application/vnd.databricks.v1+cell": {
     "inputWidgets": {},
     "nuid": "1995e8c8-6829-4785-8ee1-0dc749bd926e",
     "showTitle": false,
     "title": ""
    }
   },
   "outputs": [],
   "source": [
    "# part a - write your Spark job here (compute average in-degree, etc)\n",
    "def count_degree(dataRDD, n):\n",
    "    \"\"\"\n",
    "    Function to analyze out-degree of nodes in a a graph.\n",
    "    Returns: \n",
    "        top  - (list of 10 tuples) nodes with most edges\n",
    "        avgDegree - (float) average out-degree for non-dangling nodes\n",
    "        sampledCounts - (list of integers) out-degree for n randomly sampled non-dangling nodes\n",
    "    \"\"\"\n",
    "    # helper func\n",
    "    def parse(line):\n",
    "        node, edges = line.split('\\t')\n",
    "        return (node, ast.literal_eval(edges))\n",
    "    \n",
    "    ############## YOUR CODE HERE ###############\n",
    "\n",
    "    \n",
    "    \n",
    "    \n",
    "    \n",
    "    ############## (END) YOUR CODE ###############\n",
    "    \n",
    "    return top, avgDegree, sampledCounts"
   ]
  },
  {
   "cell_type": "code",
   "execution_count": null,
   "metadata": {
    "application/vnd.databricks.v1+cell": {
     "inputWidgets": {},
     "nuid": "17b585a5-5aad-44dd-ac5a-341f46ca295c",
     "showTitle": false,
     "title": ""
    }
   },
   "outputs": [],
   "source": [
    "# part a - run your job on the test file (RUN THIS CELL AS IS)\n",
    "start = time.time()\n",
    "test_results = count_degree(testRDD,10)\n",
    "print(f\"... completed job in {time.time() - start} seconds\")\n",
    "print(\"Average out-degree: \", test_results[1])\n",
    "print(\"Top 10 nodes (by out-degree:)\\n\", test_results[0])"
   ]
  },
  {
   "cell_type": "code",
   "execution_count": null,
   "metadata": {
    "application/vnd.databricks.v1+cell": {
     "inputWidgets": {},
     "nuid": "08b37e33-d283-4319-9f47-5befe37cda1a",
     "showTitle": false,
     "title": ""
    }
   },
   "outputs": [],
   "source": [
    "# part a - plot results from test file (RUN THIS CELL AS IS)\n",
    "plt.hist(test_results[2], bins=10)\n",
    "plt.title(\"Distribution of Out-Degree\")\n",
    "display(plt.show())"
   ]
  },
  {
   "cell_type": "code",
   "execution_count": null,
   "metadata": {
    "application/vnd.databricks.v1+cell": {
     "inputWidgets": {},
     "nuid": "705c7a3a-6f1e-452f-bdad-99056962179a",
     "showTitle": false,
     "title": ""
    }
   },
   "outputs": [],
   "source": [
    "# part a - run your job on the full file (RUN THIS CELL AS IS)\n",
    "start = time.time()\n",
    "full_results = count_degree(wikiRDD,1000)\n",
    "\n",
    "print(f\"... completed job in {time.time() - start} seconds\")\n",
    "print(\"Average out-degree: \", full_results[1])\n",
    "print(\"Top 10 nodes (by out-degree:)\\n\", full_results[0])"
   ]
  },
  {
   "cell_type": "code",
   "execution_count": null,
   "metadata": {
    "application/vnd.databricks.v1+cell": {
     "inputWidgets": {},
     "nuid": "e5484923-fbed-4cd6-b81b-af30aa6b536b",
     "showTitle": false,
     "title": ""
    }
   },
   "outputs": [],
   "source": [
    "# part a - plot results from full file (RUN THIS CELL AS IS)\n",
    "plt.hist(full_results[2], bins=50)\n",
    "plt.title(\"Distribution of Out-Degree\")\n",
    "display(plt.show())"
   ]
  },
  {
   "cell_type": "markdown",
   "metadata": {
    "application/vnd.databricks.v1+cell": {
     "inputWidgets": {},
     "nuid": "e030af97-6ad1-4ce3-8362-2a71d9523e3a",
     "showTitle": false,
     "title": ""
    }
   },
   "source": [
    "# Question 7 - PageRank part 1 (Initialize the Graph)\n",
    "\n",
    "One of the challenges of performing distributed graph computation is that you must pass the entire graph structure through each iteration of your algorithm. As usual, we seek to design our computation so that as much work as possible can be done using the contents of a single record. In the case of PageRank, we'll need each record to include a node, its list of neighbors and its (current) rank. In this question you'll initialize the graph by creating a record for each dangling node and by setting the initial rank to 1/N for all nodes. \n",
    "\n",
    "__`NOTE:`__ Your solution should _not_ hard code \\\\(N\\\\).\n",
    "\n",
    "### Q7 Tasks:\n",
    "* __a) short response:__ What is \\\\(N\\\\)? Use the analogy of the infinite random web-surfer to explain why we'll initialize each node's rank to \\\\(\\frac{1}{N}\\\\). (i.e. what is the probabilistic interpretation of this choice?)\n",
    "\n",
    "* __b) short response:__ Will it be more efficient to compute \\\\(N\\\\) before initializing records for each dangling node or after? Explain your reasoning.\n",
    "\n",
    "* __c) code:__ Fill in the missing code below to create a Spark job that:\n",
    "  * parses each input record\n",
    "  * creates a new record for any dangling nodes and sets it list of neighbors to be an empty set\n",
    "  * initializes a rank of 1/N for each node\n",
    "  * returns a pair RDD with records in the format specified by the docstring\n",
    "\n",
    "\n",
    "* __d) code:__ Run the provided code to confirm that your job in `part a` has a record for each node and that your should records match the format specified in the docstring and the count should match what you computed in question 5. [__`TIP:`__ _you might want to take a moment to write out what the expected output should be fore the test graph, this will help you know your code works as expected_]\n",
    " \n",
    "__`NOTE:`__ Please observe scalability best practices in the design of your code & comment your work clearly. You will be graded on both the clarity and the design."
   ]
  },
  {
   "cell_type": "markdown",
   "metadata": {
    "application/vnd.databricks.v1+cell": {
     "inputWidgets": {},
     "nuid": "da2fa658-bcf4-4697-b9a1-f583ab97bce2",
     "showTitle": false,
     "title": ""
    }
   },
   "source": [
    "### Q7 Student Answers:\n",
    "\n",
    "> __a)__ Type your answer here! \n",
    "\n",
    "> __b)__ Type your answer here!"
   ]
  },
  {
   "cell_type": "code",
   "execution_count": null,
   "metadata": {
    "application/vnd.databricks.v1+cell": {
     "inputWidgets": {},
     "nuid": "dc14aa8b-8645-48ba-ae38-09930d2d86b8",
     "showTitle": false,
     "title": ""
    }
   },
   "outputs": [],
   "source": [
    "# part c - job to initialize the graph (RUN THIS CELL AS IS)\n",
    "def initGraph(dataRDD):\n",
    "    \"\"\"\n",
    "    Spark job to read in the raw data and initialize an \n",
    "    adjacency list representation with a record for each\n",
    "    node (including dangling nodes).\n",
    "    \n",
    "    Returns: \n",
    "        graphRDD -  a pair RDD of (node_id , (score, edges))\n",
    "        \n",
    "    NOTE: The score should be a float, but you may want to be \n",
    "    strategic about how format the edges... there are a few \n",
    "    options that can work. Make sure that whatever you choose\n",
    "    is sufficient for Question 8 where you'll run PageRank.\n",
    "    \"\"\"\n",
    "    ############## YOUR CODE HERE ###############\n",
    "\n",
    "    # write any helper functions here\n",
    "    \n",
    "    \n",
    "    \n",
    "    \n",
    "    \n",
    "    \n",
    "    \n",
    "    \n",
    "    \n",
    "    # write your main Spark code here\n",
    "    \n",
    "    \n",
    "    \n",
    "    \n",
    "    \n",
    "    ############## (END) YOUR CODE ##############\n",
    "    \n",
    "    return graphRDD"
   ]
  },
  {
   "cell_type": "code",
   "execution_count": null,
   "metadata": {
    "application/vnd.databricks.v1+cell": {
     "inputWidgets": {},
     "nuid": "e114ad87-8080-4dae-9e62-3e74ea0c6829",
     "showTitle": false,
     "title": ""
    }
   },
   "outputs": [],
   "source": [
    "# part c - run your Spark job on the test graph (RUN THIS CELL AS IS)\n",
    "start = time.time()\n",
    "testGraph = initGraph(testRDD).collect()\n",
    "print(f'... test graph initialized in {time.time() - start} seconds.')\n",
    "testGraph"
   ]
  },
  {
   "cell_type": "code",
   "execution_count": null,
   "metadata": {
    "application/vnd.databricks.v1+cell": {
     "inputWidgets": {},
     "nuid": "a5e3680e-5cf6-4874-8ec3-9e4e4356a0a5",
     "showTitle": false,
     "title": ""
    }
   },
   "outputs": [],
   "source": [
    "# part c - run your code on the main graph (RUN THIS CELL AS IS)\n",
    "start = time.time()\n",
    "wikiGraphRDD = initGraph(wikiRDD)\n",
    "print(f'... full graph initialized in {time.time() - start} seconds')"
   ]
  },
  {
   "cell_type": "code",
   "execution_count": null,
   "metadata": {
    "application/vnd.databricks.v1+cell": {
     "inputWidgets": {},
     "nuid": "9b966478-fbc9-4f6b-883d-80c01ac6969e",
     "showTitle": false,
     "title": ""
    }
   },
   "outputs": [],
   "source": [
    "# part c - confirm record format and count (RUN THIS CELL AS IS)\n",
    "start = time.time()\n",
    "print(f'Total number of records: {wikiGraphRDD.count()}')\n",
    "print(f'First record: {wikiGraphRDD.take(1)}')\n",
    "print(f'... initialization continued: {time.time() - start} seconds')"
   ]
  },
  {
   "cell_type": "markdown",
   "metadata": {
    "application/vnd.databricks.v1+cell": {
     "inputWidgets": {},
     "nuid": "6e3c6902-1c20-4b5e-beb2-ba28a0183eeb",
     "showTitle": false,
     "title": ""
    }
   },
   "source": [
    "# Question 8 - PageRank part 2 (Iterate until convergence)\n",
    "\n",
    "Finally we're ready to compute the page rank. In this last question you'll write a Spark job that iterates over the initialized graph updating each nodes score until it reaches a convergence threshold. The diagram below gives a visual overview of the process using a 5 node toy graph. Pay particular attention to what happens to the dangling mass at each iteration.\n",
    "\n",
    "<img src='https://github.com/kyleiwaniec/w261_assets/blob/master/images/HW5/PR-illustrated.png?raw=true' width=50%>\n",
    "\n",
    "\n",
    "\n",
    "__`A Note about Notation:`__ The formula above describes how to compute the updated page rank for a node in the graph. The $P$ on the left hand side of the equation is the new score, and the $P$ on the right hand side of the equation represents the accumulated mass that was re-distributed from all of that node's in-links. Finally, $|G|$ is the number of nodes in the graph (which we've elsewhere refered to as $N$).\n",
    "\n",
    "### Q8 Tasks:\n",
    "* __a) short response:__ In terms of the infinite random walk analogy, interpret the meaning of the first term in the PageRank calculation: $\\alpha * \\frac{1}{|G|}$\n",
    "\n",
    "* __b) short response:__ In the equation for the PageRank calculation above what does $m$ represent and why do we divide it by $|G|$?\n",
    "\n",
    "* __c) short response:__ Keeping track of the total probability mass after each update is a good way to confirm that your algorithm is on track. How much should the total mass be after each iteration?\n",
    "\n",
    "* __d) code:__ Fill in the missing code below to create a Spark job that take the initialized graph as its input then iterates over the graph and for each pass:\n",
    "  * reads in each record and redistributes the node's current score to each of its neighbors\n",
    "  * uses an accumulator to add up the dangling node mass and redistribute it among all the nodes. (_Don't forget to reset this accumulator after each iteration!_)\n",
    "  * uses an accumulator to keep track of the total mass being redistributed.( _This is just for your own check, its not part of the PageRank calculation. Don't forget to reset this accumulator after each iteration._)\n",
    "  * aggregates these partial scores for each node\n",
    "  * applies telportation and damping factors as described in the formula above.\n",
    "  * combine all of the above to compute the PageRank as described by the formula above.\n",
    "  * \n",
    "  \n",
    "   __WARNING:__ Some pages contain multiple hyperlinks to the same destination, please take this into account when redistributing the mass.\n",
    "\n",
    " \n",
    "__`NOTE:`__ Please observe scalability best practices in the design of your code & comment your work clearly. You will be graded on both the clarity and the design."
   ]
  },
  {
   "cell_type": "markdown",
   "metadata": {
    "application/vnd.databricks.v1+cell": {
     "inputWidgets": {},
     "nuid": "4228813d-4191-4f2a-854d-ef5410e06a14",
     "showTitle": false,
     "title": ""
    }
   },
   "source": [
    "### Q8 Student Answers:\n",
    "\n",
    "> __a)__ Type your answer here!\n",
    "\n",
    "> __b)__ Type your answer here! \n",
    "\n",
    "> __c)__ Type your answer here!"
   ]
  },
  {
   "cell_type": "code",
   "execution_count": null,
   "metadata": {
    "application/vnd.databricks.v1+cell": {
     "inputWidgets": {},
     "nuid": "c049362b-e269-4554-96f2-4fb2f91ef27b",
     "showTitle": false,
     "title": ""
    }
   },
   "outputs": [],
   "source": [
    "# part d - provided FloatAccumulator class (RUN THIS CELL AS IS)\n",
    "\n",
    "from pyspark.accumulators import AccumulatorParam\n",
    "\n",
    "class FloatAccumulatorParam(AccumulatorParam):\n",
    "    \"\"\"\n",
    "    Custom accumulator for use in page rank to keep track of various masses.\n",
    "    \n",
    "    IMPORTANT: accumulators should only be called inside actions to avoid duplication.\n",
    "    We stringly recommend you use the 'foreach' action in your implementation below.\n",
    "    \"\"\"\n",
    "    def zero(self, value):\n",
    "        return value\n",
    "    def addInPlace(self, val1, val2):\n",
    "        return val1 + val2"
   ]
  },
  {
   "cell_type": "code",
   "execution_count": null,
   "metadata": {
    "application/vnd.databricks.v1+cell": {
     "inputWidgets": {},
     "nuid": "24bafb04-a811-4af3-ba8f-0c5b591e715f",
     "showTitle": false,
     "title": ""
    }
   },
   "outputs": [],
   "source": [
    "# part d - job to run PageRank (RUN THIS CELL AS IS)\n",
    "def runPageRank(graphInitRDD, alpha = 0.15, maxIter = 10, verbose = True):\n",
    "    \"\"\"\n",
    "    Spark job to implement page rank\n",
    "    Args: \n",
    "        graphInitRDD  - pair RDD of (node_id , (score, edges))\n",
    "        alpha         - (float) teleportation factor\n",
    "        maxIter       - (int) stopping criteria (number of iterations)\n",
    "        verbose       - (bool) option to print logging info after each iteration\n",
    "    Returns:\n",
    "        steadyStateRDD - pair RDD of (node_id, pageRank)\n",
    "    \"\"\"\n",
    "    # teleportation:\n",
    "    a = sc.broadcast(alpha)\n",
    "    \n",
    "    # damping factor:\n",
    "    d = sc.broadcast(1-a.value)\n",
    "    \n",
    "    # initialize accumulators for dangling mass & total mass\n",
    "    mmAccum = sc.accumulator(0.0, FloatAccumulatorParam())\n",
    "    totAccum = sc.accumulator(0.0, FloatAccumulatorParam())\n",
    "    \n",
    "    ############## YOUR CODE HERE ###############\n",
    "    \n",
    "    # write your helper functions here, \n",
    "    # please document the purpose of each clearly \n",
    "    # for reference, the master solution has 5 helper functions.\n",
    "\n",
    "\n",
    "            \n",
    "    \n",
    "    \n",
    "    \n",
    "    \n",
    "    \n",
    "    \n",
    "    \n",
    "    \n",
    "    \n",
    "    \n",
    "    \n",
    "    \n",
    "    \n",
    "        \n",
    "    # write your main Spark Job here (including the for loop to iterate)\n",
    "    # for reference, the master solution is 21 lines including comments & whitespace\n",
    "\n",
    "    \n",
    "    \n",
    "    \n",
    "    \n",
    "    \n",
    "    \n",
    "    \n",
    "    \n",
    "    \n",
    "    \n",
    "    ############## (END) YOUR CODE ###############\n",
    "    \n",
    "    return steadyStateRDD"
   ]
  },
  {
   "cell_type": "code",
   "execution_count": null,
   "metadata": {
    "application/vnd.databricks.v1+cell": {
     "inputWidgets": {},
     "nuid": "4652fc6b-2dbd-436e-a51b-1969832c4aea",
     "showTitle": false,
     "title": ""
    }
   },
   "outputs": [],
   "source": [
    "# part d - run PageRank on the test graph (RUN THIS CELL AS IS)\n",
    "# NOTE: while developing your code you may want turn on the verbose option\n",
    "nIter = 20\n",
    "testGraphRDD = initGraph(testRDD)\n",
    "start = time.time()\n",
    "test_results = runPageRank(testGraphRDD, alpha = 0.15, maxIter = nIter, verbose = False)\n",
    "print(f'...trained {nIter} iterations in {time.time() - start} seconds.')\n",
    "print(f'Top 20 ranked nodes:')\n",
    "test_results.takeOrdered(20, key=lambda x: - x[1])"
   ]
  },
  {
   "cell_type": "markdown",
   "metadata": {
    "application/vnd.databricks.v1+cell": {
     "inputWidgets": {},
     "nuid": "43156bbd-3c07-4f64-a83d-05be115186cb",
     "showTitle": false,
     "title": ""
    }
   },
   "source": [
    "__`expected results for the test graph:`__\n",
    "```\n",
    "[(2, 0.3620640495978871),\n",
    " (3, 0.333992700474142),\n",
    " (5, 0.08506399429624555),\n",
    " (4, 0.06030963508473455),\n",
    " (1, 0.04255740809817991),\n",
    " (6, 0.03138662354831139),\n",
    " (8, 0.01692511778009981),\n",
    " (10, 0.01692511778009981),\n",
    " (7, 0.01692511778009981),\n",
    " (9, 0.01692511778009981),\n",
    " (11, 0.01692511778009981)]\n",
    "```"
   ]
  },
  {
   "cell_type": "code",
   "execution_count": null,
   "metadata": {
    "application/vnd.databricks.v1+cell": {
     "inputWidgets": {},
     "nuid": "5d250978-a579-46ff-8427-8b6339e250a4",
     "showTitle": false,
     "title": ""
    }
   },
   "outputs": [],
   "source": [
    "# part d - run PageRank on the full graph (RUN THIS CELL AS IS)\n",
    "# NOTE: wikiGraphRDD should have been computed & cached above!\n",
    "nIter = 10\n",
    "start = time.time()\n",
    "full_results = runPageRank(wikiGraphRDD, alpha = 0.15, maxIter = nIter, verbose = True)\n",
    "print(f'...trained {nIter} iterations in {time.time() - start} seconds.')\n",
    "print(f'Top 20 ranked nodes:')\n",
    "full_results.takeOrdered(20, key=lambda x: - x[1])"
   ]
  },
  {
   "cell_type": "code",
   "execution_count": null,
   "metadata": {
    "application/vnd.databricks.v1+cell": {
     "inputWidgets": {},
     "nuid": "4b8281ef-3d69-43a9-bbdc-321556826894",
     "showTitle": false,
     "title": ""
    }
   },
   "outputs": [],
   "source": [
    "top_20 = full_results.takeOrdered(20, key=lambda x: - x[1])"
   ]
  },
  {
   "cell_type": "code",
   "execution_count": null,
   "metadata": {
    "application/vnd.databricks.v1+cell": {
     "inputWidgets": {},
     "nuid": "2566a305-5518-4e5a-b3cd-e6668ccd9fae",
     "showTitle": false,
     "title": ""
    }
   },
   "outputs": [],
   "source": [
    "# Save the top_20 results to disc for use later. So you don't have to rerun everything if you restart the cluster.\n"
   ]
  },
  {
   "cell_type": "code",
   "execution_count": null,
   "metadata": {
    "application/vnd.databricks.v1+cell": {
     "inputWidgets": {},
     "nuid": "1d15f04a-94c7-44d9-9614-f8c9f477a64d",
     "showTitle": false,
     "title": ""
    }
   },
   "outputs": [],
   "source": [
    "# view record from indexRDD (RUN THIS CELL AS IS)\n",
    "# title\\t indx\\t inDeg\\t outDeg\n",
    "indexRDD.take(1)"
   ]
  },
  {
   "cell_type": "code",
   "execution_count": null,
   "metadata": {
    "application/vnd.databricks.v1+cell": {
     "inputWidgets": {},
     "nuid": "cb8837fd-2a93-4806-bf9a-15bfa900a8fa",
     "showTitle": false,
     "title": ""
    }
   },
   "outputs": [],
   "source": [
    "# map indexRDD to new format (index, name) (RUN THIS CELL AS IS)\n",
    "namesKV_RDD = indexRDD.map(lambda x: (int(x.split('\\t')[1]), x.split('\\t')[0]))"
   ]
  },
  {
   "cell_type": "code",
   "execution_count": null,
   "metadata": {
    "application/vnd.databricks.v1+cell": {
     "inputWidgets": {},
     "nuid": "a0592dd0-c271-48e2-9156-5a48fc20c3c5",
     "showTitle": false,
     "title": ""
    }
   },
   "outputs": [],
   "source": [
    "# see new format (RUN THIS CELL AS IS)\n",
    "namesKV_RDD.take(2)"
   ]
  },
  {
   "cell_type": "markdown",
   "metadata": {
    "application/vnd.databricks.v1+cell": {
     "inputWidgets": {},
     "nuid": "b5c64b57-d2a5-4c1c-a640-32827127ed52",
     "showTitle": false,
     "title": ""
    }
   },
   "source": [
    "# OPTIONAL\n",
    "### The rest of this notebook is optional and doesn't count toward your grade.\n",
    "The indexRDD we created earlier from the indices.txt file contains the titles of the pages and thier IDs.\n",
    "\n",
    "* __a) code:__ Join this dataset with your top 20 results.\n",
    "* __b) code:__ Print the results"
   ]
  },
  {
   "cell_type": "markdown",
   "metadata": {
    "application/vnd.databricks.v1+cell": {
     "inputWidgets": {},
     "nuid": "b2b2f96c-d0c3-41ba-ae62-04bb6aa21bea",
     "showTitle": false,
     "title": ""
    }
   },
   "source": [
    "## Join with indexRDD and print pretty"
   ]
  },
  {
   "cell_type": "code",
   "execution_count": null,
   "metadata": {
    "application/vnd.databricks.v1+cell": {
     "inputWidgets": {},
     "nuid": "c27271ae-d735-4b54-8655-b54612571f79",
     "showTitle": false,
     "title": ""
    }
   },
   "outputs": [],
   "source": [
    "# part a\n",
    "joinedWithNames = None\n",
    "############## YOUR CODE HERE ###############\n",
    "\n",
    "############## END YOUR CODE ###############"
   ]
  },
  {
   "cell_type": "code",
   "execution_count": null,
   "metadata": {
    "application/vnd.databricks.v1+cell": {
     "inputWidgets": {},
     "nuid": "620c337a-b43e-4127-8b93-645adea61fd5",
     "showTitle": false,
     "title": ""
    }
   },
   "outputs": [],
   "source": [
    "# part b\n",
    "# Feel free to modify this cell to suit your implementation, but please keep the formatting and sort order.\n",
    "print(\"{:10s}\\t| {:10s}\\t| {}\".format(\"PageRank\",\"Page id\",\"Title\"))\n",
    "print(\"=\"*100)\n",
    "for r in joinedWithNames:\n",
    "    print (\"{:6f}\\t| {:10d}\\t| {}\".format(r[1][1],r[0],r[1][0]))"
   ]
  },
  {
   "cell_type": "code",
   "execution_count": null,
   "metadata": {
    "application/vnd.databricks.v1+cell": {
     "inputWidgets": {},
     "nuid": "1038bdcc-b212-419e-8008-7680abfd4c7b",
     "showTitle": false,
     "title": ""
    }
   },
   "outputs": [],
   "source": []
  },
  {
   "cell_type": "markdown",
   "metadata": {
    "application/vnd.databricks.v1+cell": {
     "inputWidgets": {},
     "nuid": "367af6ae-d2e5-4880-9a1a-ecfff986c453",
     "showTitle": false,
     "title": ""
    }
   },
   "source": [
    "## OPTIONAL - GraphFrames\n",
    "GraphFrames is a graph library which is built on top of the Spark DataFrames API.\n",
    "\n",
    "* __a) code:__ Using the same dataset, run the graphframes implementation of pagerank.\n",
    "* __b) code:__ Join the top 20 results with indices.txt and display in the same format as above.\n",
    "* __c) short answer:__ Compare your results with the results from graphframes.\n",
    "\n",
    "__NOTE:__ Feel free to create as many code cells as you need. Code should be clear and concise - do not include your scratch work. Comment your code if it's not self annotating."
   ]
  },
  {
   "cell_type": "code",
   "execution_count": null,
   "metadata": {
    "application/vnd.databricks.v1+cell": {
     "inputWidgets": {},
     "nuid": "b5e395e6-dc0a-45ca-a2a5-3ec7a03f2b34",
     "showTitle": false,
     "title": ""
    }
   },
   "outputs": [],
   "source": [
    "# imports\n",
    "import re\n",
    "import ast\n",
    "import time\n",
    "import numpy as np\n",
    "import pandas as pd\n",
    "import seaborn as sns\n",
    "import networkx as nx\n",
    "import matplotlib.pyplot as plt\n",
    "from graphframes import *\n",
    "from pyspark.sql import functions as F"
   ]
  },
  {
   "cell_type": "code",
   "execution_count": null,
   "metadata": {
    "application/vnd.databricks.v1+cell": {
     "inputWidgets": {},
     "nuid": "cf30d2cf-b138-48a5-a228-4ce168a84529",
     "showTitle": false,
     "title": ""
    }
   },
   "outputs": [],
   "source": [
    "# load the data into Spark RDDs for convenience of use later (RUN THIS CELL AS IS)\n",
    "DATA_PATH = 'dbfs:/mnt/mids-w261/HW5/'\n",
    "testRDD = sc.textFile(DATA_PATH +'test_graph.txt')\n",
    "indexRDD = sc.textFile(DATA_PATH + '/indices.txt')\n",
    "wikiRDD = sc.textFile(DATA_PATH + '/all-pages-indexed-out.txt')"
   ]
  },
  {
   "cell_type": "markdown",
   "metadata": {
    "application/vnd.databricks.v1+cell": {
     "inputWidgets": {},
     "nuid": "2ab664fc-c4c4-4987-aba1-5b92f5bc25ef",
     "showTitle": false,
     "title": ""
    }
   },
   "source": [
    "### You will need to generate vertices (v) and edges (e) to feed into the graph below. \n",
    "Use as many cells as you need for this task."
   ]
  },
  {
   "cell_type": "code",
   "execution_count": null,
   "metadata": {
    "application/vnd.databricks.v1+cell": {
     "inputWidgets": {},
     "nuid": "822fb59c-03f8-4a04-95d7-ac1a66743b11",
     "showTitle": false,
     "title": ""
    }
   },
   "outputs": [],
   "source": [
    "# Create a GraphFrame\n",
    "from graphframes import *\n",
    "g = GraphFrame(v, e)\n"
   ]
  },
  {
   "cell_type": "code",
   "execution_count": null,
   "metadata": {
    "application/vnd.databricks.v1+cell": {
     "inputWidgets": {},
     "nuid": "7530fa5c-4784-4863-8419-ecd6e32fd20d",
     "showTitle": false,
     "title": ""
    }
   },
   "outputs": [],
   "source": [
    "# Run PageRank algorithm, and show results.\n",
    "results = g.pageRank(resetProbability=0.15, maxIter=10)"
   ]
  },
  {
   "cell_type": "code",
   "execution_count": null,
   "metadata": {
    "application/vnd.databricks.v1+cell": {
     "inputWidgets": {},
     "nuid": "d34eaa7a-2031-457b-ab2a-088fd6673311",
     "showTitle": false,
     "title": ""
    }
   },
   "outputs": [],
   "source": [
    "start = time.time()\n",
    "top_20 = results.vertices.orderBy(F.desc(\"pagerank\")).limit(20)\n",
    "print(f'... completed job in {time.time() - start} seconds.')"
   ]
  },
  {
   "cell_type": "code",
   "execution_count": null,
   "metadata": {
    "application/vnd.databricks.v1+cell": {
     "inputWidgets": {},
     "nuid": "75cbba25-6fcf-4191-84ed-3bdae02e6250",
     "showTitle": false,
     "title": ""
    }
   },
   "outputs": [],
   "source": [
    "%%time\n",
    "top_20.show()"
   ]
  },
  {
   "cell_type": "markdown",
   "metadata": {
    "application/vnd.databricks.v1+cell": {
     "inputWidgets": {},
     "nuid": "46bd47c2-c416-4299-b236-8cade7f3557c",
     "showTitle": false,
     "title": ""
    }
   },
   "source": [
    "### Run the cells below to join the results of the graphframes pagerank algorithm with the names of the nodes."
   ]
  },
  {
   "cell_type": "code",
   "execution_count": null,
   "metadata": {
    "application/vnd.databricks.v1+cell": {
     "inputWidgets": {},
     "nuid": "d76b2af0-a501-4a7e-8def-c4c68c088f82",
     "showTitle": false,
     "title": ""
    }
   },
   "outputs": [],
   "source": [
    "namesKV_RDD = indexRDD.map(lambda x: (int(x.split('\\t')[1]), x.split('\\t')[0]))"
   ]
  },
  {
   "cell_type": "code",
   "execution_count": null,
   "metadata": {
    "application/vnd.databricks.v1+cell": {
     "inputWidgets": {},
     "nuid": "33ef238e-503f-44d6-8fe5-6f08b99f3882",
     "showTitle": false,
     "title": ""
    }
   },
   "outputs": [],
   "source": [
    "namesKV_DF = namesKV_RDD.toDF()"
   ]
  },
  {
   "cell_type": "code",
   "execution_count": null,
   "metadata": {
    "application/vnd.databricks.v1+cell": {
     "inputWidgets": {},
     "nuid": "8b7eaaed-90f7-45ab-80b3-d9ff753631d2",
     "showTitle": false,
     "title": ""
    }
   },
   "outputs": [],
   "source": [
    "namesKV_DF = namesKV_DF.withColumnRenamed('_1','id')\n",
    "namesKV_DF = namesKV_DF.withColumnRenamed('_2','title')\n",
    "namesKV_DF.take(1)"
   ]
  },
  {
   "cell_type": "code",
   "execution_count": null,
   "metadata": {
    "application/vnd.databricks.v1+cell": {
     "inputWidgets": {},
     "nuid": "d519cf66-56f7-43d6-9197-0bb6b9e797de",
     "showTitle": false,
     "title": ""
    }
   },
   "outputs": [],
   "source": [
    "resultsWithNames = namesKV_DF.join(top_20, namesKV_DF.id==top_20.id).orderBy(F.desc(\"pagerank\")).collect()"
   ]
  },
  {
   "cell_type": "code",
   "execution_count": null,
   "metadata": {
    "application/vnd.databricks.v1+cell": {
     "inputWidgets": {},
     "nuid": "b45fded4-2fb7-454e-bc96-f784e0078097",
     "showTitle": false,
     "title": ""
    }
   },
   "outputs": [],
   "source": [
    "# TODO: use f' for string formatting\n",
    "print(\"{:10s}\\t| {:10s}\\t| {}\".format(\"PageRank\",\"Page id\",\"Title\"))\n",
    "print(\"=\"*100)\n",
    "for r in resultsWithNames:\n",
    "    print (\"{:6f}\\t| {:10s}\\t| {}\".format(r[3],r[2],r[1]))"
   ]
  },
  {
   "cell_type": "markdown",
   "metadata": {
    "application/vnd.databricks.v1+cell": {
     "inputWidgets": {},
     "nuid": "c39ab051-b312-4974-bf01-823e9f52f765",
     "showTitle": false,
     "title": ""
    }
   },
   "source": [
    "### Congratulations, you have completed HW5! Please refer to the readme for submission instructions.\n",
    "\n",
    "If you would like to provide feedback regarding this homework, please use the survey at: https://docs.google.com/forms/d/e/1FAIpQLSce9feiQeSkdP43A0ZYui1tMGIBfLfzb0rmgToQeZD9bXXX8Q/viewform"
   ]
  },
  {
   "cell_type": "code",
   "execution_count": null,
   "metadata": {
    "application/vnd.databricks.v1+cell": {
     "inputWidgets": {},
     "nuid": "172c849a-86f4-4628-8f61-089e3ed543b4",
     "showTitle": false,
     "title": ""
    }
   },
   "outputs": [],
   "source": []
  }
 ],
 "metadata": {
  "application/vnd.databricks.v1+notebook": {
   "dashboards": [],
   "language": "python",
   "notebookName": "hw5_workbook_Karthik",
   "notebookOrigID": 4135716278513717,
   "widgets": {}
  },
  "kernelspec": {
   "display_name": "Python 3",
   "language": "python",
   "name": "python3"
  },
  "language_info": {
   "codemirror_mode": {
    "name": "ipython",
    "version": 3
   },
   "file_extension": ".py",
   "mimetype": "text/x-python",
   "name": "python",
   "nbconvert_exporter": "python",
   "pygments_lexer": "ipython3",
   "version": "3.7.5"
  }
 },
 "nbformat": 4,
 "nbformat_minor": 4
}
